{
 "cells": [
  {
   "cell_type": "code",
   "execution_count": 8,
   "id": "0dee8c9b",
   "metadata": {
    "ExecuteTime": {
     "end_time": "2021-10-01T23:07:46.792281Z",
     "start_time": "2021-10-01T23:07:46.782341Z"
    }
   },
   "outputs": [],
   "source": [
    "%matplotlib notebook\n",
    "%matplotlib inline\n",
    "\n",
    "import trendet\n",
    "import investpy\n",
    "import yfinance as yf\n",
    "import mplfinance as fplt\n",
    "\n",
    "import numpy as np\n",
    "import pandas as pd\n",
    "import seaborn as sns\n",
    "\n",
    "import plotly.express as px\n",
    "import plotly.graph_objs as go\n",
    "import matplotlib.pyplot as plt\n",
    "\n",
    "from datetime import datetime\n",
    "from subprocess import check_output\n",
    "\n",
    "pd.set_option('display.max_columns', None)\n",
    "pd.set_option('display.max_rows', None)\n",
    "\n",
    "import warnings\n",
    "warnings.filterwarnings('ignore')"
   ]
  },
  {
   "cell_type": "markdown",
   "id": "798e492a",
   "metadata": {},
   "source": [
    "<blockquote> O conjunto de dados Cardano – ADA/USD, objeto deste projeto, foi obtido no sítio Yahoo Finance, em 09 de outubro de 2021.</blockquote>\n",
    "\n",
    "\n",
    "<blockquote> Os dados, consiste em 1 (um) dataset com mesma estrutura, foram coletados em 2021 por meio de API por Yahoo Finance [2.1]. Como exposto, trata-se de 1 arquivo texto, relacionado a leitura da movimentação financeira cripto moeda CARDANO, sendo um referente aos valores característicos do movimento diário da negociação, totalizando 6 (seis) colunas e 1000 (mil) linhas. A referência a essa quantidade pode ser observada na Figura 2.1</blockquote>"
   ]
  },
  {
   "cell_type": "code",
   "execution_count": 17,
   "id": "8aacb66b",
   "metadata": {
    "ExecuteTime": {
     "end_time": "2021-10-03T09:46:26.650629Z",
     "start_time": "2021-10-03T09:46:26.353168Z"
    }
   },
   "outputs": [
    {
     "ename": "TypeError",
     "evalue": "download() got multiple values for argument 'start'",
     "output_type": "error",
     "traceback": [
      "\u001b[1;31m---------------------------------------------------------------------------\u001b[0m",
      "\u001b[1;31mTypeError\u001b[0m                                 Traceback (most recent call last)",
      "\u001b[1;32m<ipython-input-17-aab93de90ec1>\u001b[0m in \u001b[0;36m<module>\u001b[1;34m\u001b[0m\n\u001b[0;32m      1\u001b[0m \u001b[1;31m# Leitura da da base de dados API\u001b[0m\u001b[1;33m\u001b[0m\u001b[1;33m\u001b[0m\u001b[1;33m\u001b[0m\u001b[0m\n\u001b[1;32m----> 2\u001b[1;33m \u001b[0mcardano\u001b[0m \u001b[1;33m=\u001b[0m \u001b[0myf\u001b[0m\u001b[1;33m.\u001b[0m\u001b[0mdownload\u001b[0m\u001b[1;33m(\u001b[0m\u001b[1;34m\"ADA-USD\"\u001b[0m\u001b[1;33m,\u001b[0m \u001b[1;34m\"Bicoin\"\u001b[0m\u001b[1;33m,\u001b[0m \u001b[0mstart\u001b[0m\u001b[1;33m=\u001b[0m\u001b[1;34m\"2019-01-01\"\u001b[0m\u001b[1;33m,\u001b[0m \u001b[0mend\u001b[0m\u001b[1;33m=\u001b[0m\u001b[1;34m\"2021-10-1\"\u001b[0m\u001b[1;33m)\u001b[0m\u001b[1;33m\u001b[0m\u001b[1;33m\u001b[0m\u001b[0m\n\u001b[0m",
      "\u001b[1;31mTypeError\u001b[0m: download() got multiple values for argument 'start'"
     ]
    }
   ],
   "source": [
    "# Leitura da da base de dados API\n",
    "cardano = yf.download(\"ADA-USD\", \"Bicoin\", start=\"2019-01-01\", end=\"2021-10-1\")"
   ]
  },
  {
   "cell_type": "code",
   "execution_count": 10,
   "id": "720859b3",
   "metadata": {
    "ExecuteTime": {
     "end_time": "2021-10-01T23:07:47.828672Z",
     "start_time": "2021-10-01T23:07:47.813745Z"
    }
   },
   "outputs": [
    {
     "data": {
      "text/html": [
       "<div>\n",
       "<style scoped>\n",
       "    .dataframe tbody tr th:only-of-type {\n",
       "        vertical-align: middle;\n",
       "    }\n",
       "\n",
       "    .dataframe tbody tr th {\n",
       "        vertical-align: top;\n",
       "    }\n",
       "\n",
       "    .dataframe thead th {\n",
       "        text-align: right;\n",
       "    }\n",
       "</style>\n",
       "<table border=\"1\" class=\"dataframe\">\n",
       "  <thead>\n",
       "    <tr style=\"text-align: right;\">\n",
       "      <th></th>\n",
       "      <th>Open</th>\n",
       "      <th>High</th>\n",
       "      <th>Low</th>\n",
       "      <th>Close</th>\n",
       "      <th>Adj Close</th>\n",
       "      <th>Volume</th>\n",
       "    </tr>\n",
       "    <tr>\n",
       "      <th>Date</th>\n",
       "      <th></th>\n",
       "      <th></th>\n",
       "      <th></th>\n",
       "      <th></th>\n",
       "      <th></th>\n",
       "      <th></th>\n",
       "    </tr>\n",
       "  </thead>\n",
       "  <tbody>\n",
       "    <tr>\n",
       "      <th>2019-01-01</th>\n",
       "      <td>0.040984</td>\n",
       "      <td>0.042547</td>\n",
       "      <td>0.040308</td>\n",
       "      <td>0.042547</td>\n",
       "      <td>0.042547</td>\n",
       "      <td>14962902</td>\n",
       "    </tr>\n",
       "    <tr>\n",
       "      <th>2019-01-02</th>\n",
       "      <td>0.042568</td>\n",
       "      <td>0.045563</td>\n",
       "      <td>0.041982</td>\n",
       "      <td>0.045258</td>\n",
       "      <td>0.045258</td>\n",
       "      <td>24151526</td>\n",
       "    </tr>\n",
       "    <tr>\n",
       "      <th>2019-01-03</th>\n",
       "      <td>0.045106</td>\n",
       "      <td>0.045259</td>\n",
       "      <td>0.042535</td>\n",
       "      <td>0.042682</td>\n",
       "      <td>0.042682</td>\n",
       "      <td>21126963</td>\n",
       "    </tr>\n",
       "    <tr>\n",
       "      <th>2019-01-04</th>\n",
       "      <td>0.042629</td>\n",
       "      <td>0.044092</td>\n",
       "      <td>0.042477</td>\n",
       "      <td>0.043812</td>\n",
       "      <td>0.043812</td>\n",
       "      <td>16024029</td>\n",
       "    </tr>\n",
       "    <tr>\n",
       "      <th>2019-01-05</th>\n",
       "      <td>0.043659</td>\n",
       "      <td>0.045570</td>\n",
       "      <td>0.043350</td>\n",
       "      <td>0.044701</td>\n",
       "      <td>0.044701</td>\n",
       "      <td>25100965</td>\n",
       "    </tr>\n",
       "    <tr>\n",
       "      <th>2019-01-06</th>\n",
       "      <td>0.044709</td>\n",
       "      <td>0.049637</td>\n",
       "      <td>0.044709</td>\n",
       "      <td>0.049261</td>\n",
       "      <td>0.049261</td>\n",
       "      <td>51366407</td>\n",
       "    </tr>\n",
       "    <tr>\n",
       "      <th>2019-01-07</th>\n",
       "      <td>0.049266</td>\n",
       "      <td>0.050744</td>\n",
       "      <td>0.047579</td>\n",
       "      <td>0.047996</td>\n",
       "      <td>0.047996</td>\n",
       "      <td>45688431</td>\n",
       "    </tr>\n",
       "    <tr>\n",
       "      <th>2019-01-08</th>\n",
       "      <td>0.048140</td>\n",
       "      <td>0.050021</td>\n",
       "      <td>0.046749</td>\n",
       "      <td>0.048525</td>\n",
       "      <td>0.048525</td>\n",
       "      <td>34626383</td>\n",
       "    </tr>\n",
       "    <tr>\n",
       "      <th>2019-01-09</th>\n",
       "      <td>0.048567</td>\n",
       "      <td>0.052740</td>\n",
       "      <td>0.048533</td>\n",
       "      <td>0.052169</td>\n",
       "      <td>0.052169</td>\n",
       "      <td>55364234</td>\n",
       "    </tr>\n",
       "    <tr>\n",
       "      <th>2019-01-10</th>\n",
       "      <td>0.052049</td>\n",
       "      <td>0.054636</td>\n",
       "      <td>0.042756</td>\n",
       "      <td>0.044529</td>\n",
       "      <td>0.044529</td>\n",
       "      <td>91162431</td>\n",
       "    </tr>\n",
       "  </tbody>\n",
       "</table>\n",
       "</div>"
      ],
      "text/plain": [
       "                Open      High       Low     Close  Adj Close    Volume\n",
       "Date                                                                   \n",
       "2019-01-01  0.040984  0.042547  0.040308  0.042547   0.042547  14962902\n",
       "2019-01-02  0.042568  0.045563  0.041982  0.045258   0.045258  24151526\n",
       "2019-01-03  0.045106  0.045259  0.042535  0.042682   0.042682  21126963\n",
       "2019-01-04  0.042629  0.044092  0.042477  0.043812   0.043812  16024029\n",
       "2019-01-05  0.043659  0.045570  0.043350  0.044701   0.044701  25100965\n",
       "2019-01-06  0.044709  0.049637  0.044709  0.049261   0.049261  51366407\n",
       "2019-01-07  0.049266  0.050744  0.047579  0.047996   0.047996  45688431\n",
       "2019-01-08  0.048140  0.050021  0.046749  0.048525   0.048525  34626383\n",
       "2019-01-09  0.048567  0.052740  0.048533  0.052169   0.052169  55364234\n",
       "2019-01-10  0.052049  0.054636  0.042756  0.044529   0.044529  91162431"
      ]
     },
     "execution_count": 10,
     "metadata": {},
     "output_type": "execute_result"
    }
   ],
   "source": [
    "cardano.head(10)"
   ]
  },
  {
   "cell_type": "code",
   "execution_count": 12,
   "id": "3f9d6704",
   "metadata": {
    "ExecuteTime": {
     "end_time": "2021-10-01T23:08:03.177424Z",
     "start_time": "2021-10-01T23:08:03.146177Z"
    }
   },
   "outputs": [
    {
     "name": "stdout",
     "output_type": "stream",
     "text": [
      "<class 'pandas.core.frame.DataFrame'>\n",
      "DatetimeIndex: 1000 entries, 2019-01-01 to 2021-09-30\n",
      "Data columns (total 6 columns):\n",
      " #   Column     Non-Null Count  Dtype  \n",
      "---  ------     --------------  -----  \n",
      " 0   Open       1000 non-null   float64\n",
      " 1   High       1000 non-null   float64\n",
      " 2   Low        1000 non-null   float64\n",
      " 3   Close      1000 non-null   float64\n",
      " 4   Adj Close  1000 non-null   float64\n",
      " 5   Volume     1000 non-null   int64  \n",
      "dtypes: float64(5), int64(1)\n",
      "memory usage: 54.7 KB\n"
     ]
    }
   ],
   "source": [
    "cardano.info()"
   ]
  },
  {
   "cell_type": "markdown",
   "id": "fc023ff6",
   "metadata": {},
   "source": [
    "<blockquote>Para enriquecer o trabalho, foi incluído outra base de dados referente ao Valor de Mercado, obtido no site COINMARKETCAP, referência mundial em assuntos sobre criptomoedas. Os dados foram obtidos atrás de download no site COINMARKETCAP, contém Date (data) e Cap_Mercado (Valor de mercado), conforme figura 2.3.</blockquote>"
   ]
  },
  {
   "cell_type": "code",
   "execution_count": 15,
   "id": "30b07849",
   "metadata": {
    "ExecuteTime": {
     "end_time": "2021-10-02T00:30:21.630651Z",
     "start_time": "2021-10-02T00:30:21.542907Z"
    }
   },
   "outputs": [],
   "source": [
    "v_mercado = pd.read_csv(\"v_mercado.csv\", delimiter=';', header=0, parse_dates=[0],\n",
    "                        index_col=0)\n",
    "v_mercado.index = pd.to_datetime(v_mercado.index)\n",
    "\n",
    "v_mercado = v_mercado.sort_values(by='Date')  # Ordenar o dados pela Data"
   ]
  },
  {
   "cell_type": "markdown",
   "id": "767cb740",
   "metadata": {},
   "source": [
    "<blockquote>Cada linha dos arquivos contém um registro sobre data (data), Valor de Mercado (Cap_Mercado), sendo um referente aos valores característicos do valor de mercado, totalizando 2 (duas) colunas e 1000 (mil) linhas conforme figura 2.4.</blockquote>\n",
    " \n"
   ]
  },
  {
   "cell_type": "code",
   "execution_count": 16,
   "id": "7d5e88cb",
   "metadata": {
    "ExecuteTime": {
     "end_time": "2021-10-02T00:30:24.400865Z",
     "start_time": "2021-10-02T00:30:24.392886Z"
    }
   },
   "outputs": [
    {
     "data": {
      "text/html": [
       "<div>\n",
       "<style scoped>\n",
       "    .dataframe tbody tr th:only-of-type {\n",
       "        vertical-align: middle;\n",
       "    }\n",
       "\n",
       "    .dataframe tbody tr th {\n",
       "        vertical-align: top;\n",
       "    }\n",
       "\n",
       "    .dataframe thead th {\n",
       "        text-align: right;\n",
       "    }\n",
       "</style>\n",
       "<table border=\"1\" class=\"dataframe\">\n",
       "  <thead>\n",
       "    <tr style=\"text-align: right;\">\n",
       "      <th></th>\n",
       "      <th>Cap_Mercado</th>\n",
       "    </tr>\n",
       "    <tr>\n",
       "      <th>Date</th>\n",
       "      <th></th>\n",
       "    </tr>\n",
       "  </thead>\n",
       "  <tbody>\n",
       "    <tr>\n",
       "      <th>2019-01-01</th>\n",
       "      <td>1103113660</td>\n",
       "    </tr>\n",
       "    <tr>\n",
       "      <th>2019-01-02</th>\n",
       "      <td>1173420170</td>\n",
       "    </tr>\n",
       "  </tbody>\n",
       "</table>\n",
       "</div>"
      ],
      "text/plain": [
       "            Cap_Mercado\n",
       "Date                   \n",
       "2019-01-01   1103113660\n",
       "2019-01-02   1173420170"
      ]
     },
     "execution_count": 16,
     "metadata": {},
     "output_type": "execute_result"
    }
   ],
   "source": [
    "v_mercado.head(2)"
   ]
  },
  {
   "cell_type": "code",
   "execution_count": null,
   "id": "375b1ed9",
   "metadata": {},
   "outputs": [],
   "source": []
  }
 ],
 "metadata": {
  "kernelspec": {
   "display_name": "Python 3",
   "language": "python",
   "name": "python3"
  },
  "language_info": {
   "codemirror_mode": {
    "name": "ipython",
    "version": 3
   },
   "file_extension": ".py",
   "mimetype": "text/x-python",
   "name": "python",
   "nbconvert_exporter": "python",
   "pygments_lexer": "ipython3",
   "version": "3.8.8"
  }
 },
 "nbformat": 4,
 "nbformat_minor": 5
}

{
 "cells": [
  {
   "cell_type": "code",
   "execution_count": 7,
   "id": "f47e1b6b",
   "metadata": {
    "ExecuteTime": {
     "end_time": "2021-10-04T15:24:39.858955Z",
     "start_time": "2021-10-04T15:24:39.840893Z"
    }
   },
   "outputs": [],
   "source": [
    "%matplotlib notebook\n",
    "%matplotlib inline\n",
    "\n",
    "import trendet\n",
    "import investpy\n",
    "import yfinance as yf\n",
    "import mplfinance as fplt\n",
    "import mplfinance as mpf\n",
    "\n",
    "import numpy as np\n",
    "import pandas as pd\n",
    "import seaborn as sns\n",
    "\n",
    "import plotly.express as px\n",
    "import plotly.graph_objs as go\n",
    "import matplotlib.pyplot as plt\n",
    "\n",
    "from datetime import datetime\n",
    "from subprocess import check_output\n",
    "\n",
    "pd.set_option('display.max_columns', None)\n",
    "pd.set_option('display.max_rows', None)\n",
    "\n",
    "import warnings\n",
    "warnings.filterwarnings('ignore')\n",
    "\n",
    "\n",
    "from mpl_finance import candlestick_ohlc \n",
    "import matplotlib.dates as mpl_dates \n",
    "import matplotlib.pyplot as plt\n",
    "\n",
    "plt.rcParams ['figure.figsize'] = [12, 7] \n",
    "plt.rc ('font', size = 12)"
   ]
  },
  {
   "cell_type": "code",
   "execution_count": 9,
   "id": "79928934",
   "metadata": {
    "ExecuteTime": {
     "end_time": "2021-10-04T15:24:59.019440Z",
     "start_time": "2021-10-04T15:24:49.689104Z"
    }
   },
   "outputs": [
    {
     "name": "stderr",
     "output_type": "stream",
     "text": [
      "Exception in thread Thread-10:\n",
      "Traceback (most recent call last):\n",
      "  File \"C:\\anaconda3\\lib\\threading.py\", line 932, in _bootstrap_inner\n",
      "    self.run()\n",
      "  File \"C:\\anaconda3\\lib\\threading.py\", line 870, in run\n",
      "    self._target(*self._args, **self._kwargs)\n",
      "  File \"C:\\anaconda3\\lib\\site-packages\\multitasking\\__init__.py\", line 102, in _run_via_pool\n",
      "    return callee(*args, **kwargs)\n",
      "  File \"C:\\anaconda3\\lib\\site-packages\\yfinance\\multi.py\", line 169, in _download_one_threaded\n",
      "    data = _download_one(ticker, start, end, auto_adjust, back_adjust,\n",
      "  File \"C:\\anaconda3\\lib\\site-packages\\yfinance\\multi.py\", line 181, in _download_one\n",
      "    return Ticker(ticker).history(period=period, interval=interval,\n",
      "  File \"C:\\anaconda3\\lib\\site-packages\\yfinance\\base.py\", line 65, in __init__\n",
      "    \"yearly\": utils.empty_df(),\n",
      "  File \"C:\\anaconda3\\lib\\site-packages\\yfinance\\utils.py\", line 40, in empty_df\n",
      "    empty = _pd.DataFrame(index=index, data={\n",
      "  File \"C:\\anaconda3\\lib\\site-packages\\pandas\\core\\frame.py\", line 411, in __init__\n",
      "    mgr = init_dict(data, index, columns, dtype=dtype)\n",
      "  File \"C:\\anaconda3\\lib\\site-packages\\pandas\\core\\internals\\construction.py\", line 257, in init_dict\n",
      "    return arrays_to_mgr(arrays, data_names, index, columns, dtype=dtype)\n",
      "  File \"C:\\anaconda3\\lib\\site-packages\\pandas\\core\\internals\\construction.py\", line 82, in arrays_to_mgr\n",
      "    arrays = _homogenize(arrays, index, dtype)\n",
      "  File \"C:\\anaconda3\\lib\\site-packages\\pandas\\core\\internals\\construction.py\", line 322, in _homogenize\n",
      "    val = sanitize_array(\n",
      "  File \"C:\\anaconda3\\lib\\site-packages\\pandas\\core\\internals\\construction.py\", line 712, in sanitize_array\n",
      "    subarr = construct_1d_arraylike_from_scalar(value, len(index), dtype)\n",
      "  File \"C:\\anaconda3\\lib\\site-packages\\pandas\\core\\dtypes\\cast.py\", line 1233, in construct_1d_arraylike_from_scalar\n",
      "    subarr = np.empty(length, dtype=dtype)\n",
      "TypeError: Cannot interpret '<attribute 'dtype' of 'numpy.generic' objects>' as a data type\n"
     ]
    },
    {
     "ename": "KeyboardInterrupt",
     "evalue": "",
     "output_type": "error",
     "traceback": [
      "\u001b[1;31m---------------------------------------------------------------------------\u001b[0m",
      "\u001b[1;31mKeyboardInterrupt\u001b[0m                         Traceback (most recent call last)",
      "\u001b[1;32m<ipython-input-9-89a90fc82d79>\u001b[0m in \u001b[0;36m<module>\u001b[1;34m\u001b[0m\n\u001b[0;32m      1\u001b[0m \u001b[1;31m# Leitura da da base de dados API\u001b[0m\u001b[1;33m\u001b[0m\u001b[1;33m\u001b[0m\u001b[1;33m\u001b[0m\u001b[0m\n\u001b[1;32m----> 2\u001b[1;33m \u001b[0mdata\u001b[0m \u001b[1;33m=\u001b[0m \u001b[0myf\u001b[0m\u001b[1;33m.\u001b[0m\u001b[0mdownload\u001b[0m\u001b[1;33m(\u001b[0m\u001b[1;34m\"ADA-USD\"\u001b[0m\u001b[1;33m,\u001b[0m \u001b[0mstart\u001b[0m\u001b[1;33m=\u001b[0m\u001b[1;34m\"2019-01-1\"\u001b[0m\u001b[1;33m,\u001b[0m \u001b[0mend\u001b[0m\u001b[1;33m=\u001b[0m\u001b[1;34m\"2021-10-5\"\u001b[0m\u001b[1;33m,\u001b[0m \u001b[0morder\u001b[0m\u001b[1;33m=\u001b[0m \u001b[1;34m'ascending'\u001b[0m\u001b[1;33m,\u001b[0m \u001b[0minterval\u001b[0m\u001b[1;33m=\u001b[0m\u001b[1;34m'1d'\u001b[0m\u001b[1;33m)\u001b[0m\u001b[1;33m\u001b[0m\u001b[1;33m\u001b[0m\u001b[0m\n\u001b[0m\u001b[0;32m      3\u001b[0m \u001b[0mdata\u001b[0m \u001b[1;33m=\u001b[0m \u001b[0mdata\u001b[0m\u001b[1;33m.\u001b[0m\u001b[0mloc\u001b[0m\u001b[1;33m[\u001b[0m\u001b[1;34m'2021-01-01'\u001b[0m\u001b[1;33m:\u001b[0m\u001b[1;34m'2021-10-5'\u001b[0m\u001b[1;33m,\u001b[0m\u001b[1;33m:\u001b[0m\u001b[1;33m]\u001b[0m\u001b[1;33m\u001b[0m\u001b[1;33m\u001b[0m\u001b[0m\n\u001b[0;32m      4\u001b[0m \u001b[0mdata\u001b[0m\u001b[1;33m.\u001b[0m\u001b[0mhead\u001b[0m\u001b[1;33m(\u001b[0m\u001b[1;36m2\u001b[0m\u001b[1;33m)\u001b[0m\u001b[1;33m\u001b[0m\u001b[1;33m\u001b[0m\u001b[0m\n",
      "\u001b[1;32mC:\\anaconda3\\lib\\site-packages\\yfinance\\multi.py\u001b[0m in \u001b[0;36mdownload\u001b[1;34m(tickers, start, end, actions, threads, group_by, auto_adjust, back_adjust, progress, period, show_errors, interval, prepost, proxy, rounding, **kwargs)\u001b[0m\n\u001b[0;32m     95\u001b[0m                                    rounding=rounding)\n\u001b[0;32m     96\u001b[0m         \u001b[1;32mwhile\u001b[0m \u001b[0mlen\u001b[0m\u001b[1;33m(\u001b[0m\u001b[0mshared\u001b[0m\u001b[1;33m.\u001b[0m\u001b[0m_DFS\u001b[0m\u001b[1;33m)\u001b[0m \u001b[1;33m<\u001b[0m \u001b[0mlen\u001b[0m\u001b[1;33m(\u001b[0m\u001b[0mtickers\u001b[0m\u001b[1;33m)\u001b[0m\u001b[1;33m:\u001b[0m\u001b[1;33m\u001b[0m\u001b[1;33m\u001b[0m\u001b[0m\n\u001b[1;32m---> 97\u001b[1;33m             \u001b[0m_time\u001b[0m\u001b[1;33m.\u001b[0m\u001b[0msleep\u001b[0m\u001b[1;33m(\u001b[0m\u001b[1;36m0.01\u001b[0m\u001b[1;33m)\u001b[0m\u001b[1;33m\u001b[0m\u001b[1;33m\u001b[0m\u001b[0m\n\u001b[0m\u001b[0;32m     98\u001b[0m \u001b[1;33m\u001b[0m\u001b[0m\n\u001b[0;32m     99\u001b[0m     \u001b[1;31m# download synchronously\u001b[0m\u001b[1;33m\u001b[0m\u001b[1;33m\u001b[0m\u001b[1;33m\u001b[0m\u001b[0m\n",
      "\u001b[1;31mKeyboardInterrupt\u001b[0m: "
     ]
    }
   ],
   "source": [
    "# Leitura da da base de dados API\n",
    "data = yf.download(\"ADA-USD\", start=\"2019-01-1\", end=\"2021-10-5\", order= 'ascending', interval='1d')\n",
    "data = data.loc['2021-01-01':'2021-10-5',:]\n",
    "data.head(2)"
   ]
  },
  {
   "cell_type": "code",
   "execution_count": null,
   "id": "24180013",
   "metadata": {
    "ExecuteTime": {
     "end_time": "2021-10-04T15:24:38.657403Z",
     "start_time": "2021-10-04T15:24:27.247Z"
    }
   },
   "outputs": [],
   "source": [
    "tren = data\n",
    "# Codigo para o movimento de tendencia alta e baixa\n",
    "res = trendet.identify_df_trends(df=tren, column='Adj Close')\n",
    "\n",
    "data.reset_index(inplace=True)\n",
    "\n",
    "plt.figure(figsize=(20, 7))\n",
    "\n",
    "ax = sns.lineplot(x=data.index, y=data['Close'])\n",
    "\n",
    "ax.set(xlabel='Date')\n",
    "\n",
    "labels = tren['Up Trend'].dropna().unique().tolist()\n",
    "\n",
    "for label in labels:\n",
    "    sns.lineplot(x=tren[tren['Up Trend'] == label].index,\n",
    "                 y=tren[tren['Up Trend'] == label]['Close'],\n",
    "                 color='green')\n",
    "\n",
    "    ax.axvspan(tren[tren['Up Trend'] == label].index[0],\n",
    "               tren[tren['Up Trend'] == label].index[-1],\n",
    "               alpha=0.2,\n",
    "               color='green')\n",
    "\n",
    "for label in labels:\n",
    "    sns.lineplot(x=tren[tren['Up Trend'] == label].index,\n",
    "                y=tren[tren['Up Trend'] == label]['Close'],\n",
    "                color='white', linestyle='dashed')\n",
    "    \n",
    "\n",
    "\n",
    "    ax.axvspan(tren[tren['Up Trend'] == label].index[0],\n",
    "               tren[tren['Up Trend'] == label].index[-1],\n",
    "               alpha=0.2,\n",
    "               color='green')\n",
    "\n",
    "labels = data['Down Trend'].dropna().unique().tolist()\n",
    "\n",
    "for label in labels:\n",
    "    sns.lineplot(x=tren[tren['Down Trend'] == label].index,\n",
    "                 y=tren[tren['Down Trend'] == label]['Close'],\n",
    "                 color='red')\n",
    "\n",
    "    ax.axvspan(tren[tren['Down Trend'] == label].index[0],\n",
    "               tren[tren['Down Trend'] == label].index[-1],\n",
    "               alpha=0.2,\n",
    "               color='red')\n",
    "for label in labels:\n",
    "    sns.lineplot(x=tren[tren['Down Trend'] == label].index,\n",
    "                 y=tren[tren['Down Trend'] == label]['Close'],\n",
    "                 color='white', linestyle='dashed')\n",
    "\n",
    "\n",
    "    ax.axvspan(tren[tren['Down Trend'] == label].index[0],\n",
    "               tren[tren['Down Trend'] == label].index[-1],\n",
    "               alpha=0.2,\n",
    "               color='red')\n",
    "\n",
    "locs, _ = plt.xticks()\n",
    "labels = []\n",
    "\n",
    "for position in locs[1:-1]:\n",
    "    labels.append(str(data['Date'].loc[position])[:-9])\n",
    "\n",
    "plt.xticks(locs[1:-1], labels)\n",
    "plt.show()"
   ]
  },
  {
   "cell_type": "code",
   "execution_count": null,
   "id": "3e9b9b1f",
   "metadata": {},
   "outputs": [],
   "source": []
  },
  {
   "cell_type": "code",
   "execution_count": null,
   "id": "b4fbf90b",
   "metadata": {},
   "outputs": [],
   "source": []
  }
 ],
 "metadata": {
  "kernelspec": {
   "display_name": "Python 3",
   "language": "python",
   "name": "python3"
  },
  "language_info": {
   "codemirror_mode": {
    "name": "ipython",
    "version": 3
   },
   "file_extension": ".py",
   "mimetype": "text/x-python",
   "name": "python",
   "nbconvert_exporter": "python",
   "pygments_lexer": "ipython3",
   "version": "3.8.8"
  }
 },
 "nbformat": 4,
 "nbformat_minor": 5
}

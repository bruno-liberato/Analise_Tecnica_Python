{
 "cells": [
  {
   "cell_type": "code",
   "execution_count": 1,
   "id": "ebe6772d",
   "metadata": {
    "ExecuteTime": {
     "end_time": "2021-10-02T00:31:32.796157Z",
     "start_time": "2021-10-02T00:31:31.186519Z"
    }
   },
   "outputs": [],
   "source": [
    "%matplotlib notebook\n",
    "%matplotlib inline\n",
    "\n",
    "import trendet\n",
    "import investpy\n",
    "import yfinance as yf\n",
    "import mplfinance as fplt\n",
    "\n",
    "import numpy as np\n",
    "import pandas as pd\n",
    "import seaborn as sns\n",
    "\n",
    "import plotly.express as px\n",
    "import plotly.graph_objs as go\n",
    "import matplotlib.pyplot as plt\n",
    "\n",
    "from datetime import datetime\n",
    "from subprocess import check_output\n",
    "\n",
    "pd.set_option('display.max_columns', None)\n",
    "pd.set_option('display.max_rows', None)\n",
    "\n",
    "import warnings\n",
    "warnings.filterwarnings('ignore')"
   ]
  },
  {
   "cell_type": "code",
   "execution_count": 2,
   "id": "57fccbb8",
   "metadata": {
    "ExecuteTime": {
     "end_time": "2021-10-02T00:31:37.660708Z",
     "start_time": "2021-10-02T00:31:36.896837Z"
    }
   },
   "outputs": [
    {
     "name": "stdout",
     "output_type": "stream",
     "text": [
      "[*********************100%***********************]  1 of 1 completed\n"
     ]
    }
   ],
   "source": [
    "# Leitura da da base de dados API\n",
    "cardano = yf.download(\"ADA-USD\", start=\"2019-01-01\", end=\"2021-10-1\")"
   ]
  },
  {
   "cell_type": "code",
   "execution_count": 10,
   "id": "66a5b634",
   "metadata": {
    "ExecuteTime": {
     "end_time": "2021-10-02T00:33:44.835133Z",
     "start_time": "2021-10-02T00:33:44.816184Z"
    }
   },
   "outputs": [
    {
     "name": "stdout",
     "output_type": "stream",
     "text": [
      "<class 'pandas.core.frame.DataFrame'>\n",
      "DatetimeIndex: 1000 entries, 2019-01-01 to 2021-09-30\n",
      "Data columns (total 6 columns):\n",
      " #   Column     Non-Null Count  Dtype  \n",
      "---  ------     --------------  -----  \n",
      " 0   Open       1000 non-null   float64\n",
      " 1   High       1000 non-null   float64\n",
      " 2   Low        1000 non-null   float64\n",
      " 3   Close      1000 non-null   float64\n",
      " 4   Adj Close  1000 non-null   float64\n",
      " 5   Volume     1000 non-null   int64  \n",
      "dtypes: float64(5), int64(1)\n",
      "memory usage: 54.7 KB\n"
     ]
    }
   ],
   "source": [
    "cardano.info()"
   ]
  },
  {
   "cell_type": "code",
   "execution_count": 4,
   "id": "5f7be945",
   "metadata": {
    "ExecuteTime": {
     "end_time": "2021-10-02T00:32:02.495832Z",
     "start_time": "2021-10-02T00:32:02.401275Z"
    }
   },
   "outputs": [],
   "source": [
    "v_mercado = pd.read_csv(\"v_mercado.csv\", delimiter=';', header=0, parse_dates=[0],\n",
    "                        index_col=0)\n",
    "v_mercado.index = pd.to_datetime(v_mercado.index)\n",
    "\n",
    "v_mercado = v_mercado.sort_values(by='Date')  # Ordenar o dados pela Data"
   ]
  },
  {
   "cell_type": "code",
   "execution_count": 23,
   "id": "03dbcf63",
   "metadata": {
    "ExecuteTime": {
     "end_time": "2021-10-02T01:02:03.036332Z",
     "start_time": "2021-10-02T01:02:03.024364Z"
    }
   },
   "outputs": [
    {
     "data": {
      "text/html": [
       "<div>\n",
       "<style scoped>\n",
       "    .dataframe tbody tr th:only-of-type {\n",
       "        vertical-align: middle;\n",
       "    }\n",
       "\n",
       "    .dataframe tbody tr th {\n",
       "        vertical-align: top;\n",
       "    }\n",
       "\n",
       "    .dataframe thead th {\n",
       "        text-align: right;\n",
       "    }\n",
       "</style>\n",
       "<table border=\"1\" class=\"dataframe\">\n",
       "  <thead>\n",
       "    <tr style=\"text-align: right;\">\n",
       "      <th></th>\n",
       "      <th>Cap_Mercado</th>\n",
       "    </tr>\n",
       "    <tr>\n",
       "      <th>Date</th>\n",
       "      <th></th>\n",
       "    </tr>\n",
       "  </thead>\n",
       "  <tbody>\n",
       "    <tr>\n",
       "      <th>2019-01-01</th>\n",
       "      <td>1103113660</td>\n",
       "    </tr>\n",
       "    <tr>\n",
       "      <th>2019-01-02</th>\n",
       "      <td>1173420170</td>\n",
       "    </tr>\n",
       "    <tr>\n",
       "      <th>2019-01-03</th>\n",
       "      <td>1106608705</td>\n",
       "    </tr>\n",
       "    <tr>\n",
       "      <th>2019-01-04</th>\n",
       "      <td>1135911589</td>\n",
       "    </tr>\n",
       "    <tr>\n",
       "      <th>2019-01-05</th>\n",
       "      <td>1158975656</td>\n",
       "    </tr>\n",
       "    <tr>\n",
       "      <th>2019-01-06</th>\n",
       "      <td>1277183981</td>\n",
       "    </tr>\n",
       "    <tr>\n",
       "      <th>2019-01-07</th>\n",
       "      <td>1244393599</td>\n",
       "    </tr>\n",
       "    <tr>\n",
       "      <th>2019-01-08</th>\n",
       "      <td>1258115426</td>\n",
       "    </tr>\n",
       "    <tr>\n",
       "      <th>2019-01-09</th>\n",
       "      <td>1352599204</td>\n",
       "    </tr>\n",
       "    <tr>\n",
       "      <th>2019-01-10</th>\n",
       "      <td>1154512658</td>\n",
       "    </tr>\n",
       "  </tbody>\n",
       "</table>\n",
       "</div>"
      ],
      "text/plain": [
       "            Cap_Mercado\n",
       "Date                   \n",
       "2019-01-01   1103113660\n",
       "2019-01-02   1173420170\n",
       "2019-01-03   1106608705\n",
       "2019-01-04   1135911589\n",
       "2019-01-05   1158975656\n",
       "2019-01-06   1277183981\n",
       "2019-01-07   1244393599\n",
       "2019-01-08   1258115426\n",
       "2019-01-09   1352599204\n",
       "2019-01-10   1154512658"
      ]
     },
     "execution_count": 23,
     "metadata": {},
     "output_type": "execute_result"
    }
   ],
   "source": [
    "v_mercado.head(10)"
   ]
  },
  {
   "cell_type": "code",
   "execution_count": 12,
   "id": "1d5db7a1",
   "metadata": {
    "ExecuteTime": {
     "end_time": "2021-10-02T00:34:16.554470Z",
     "start_time": "2021-10-02T00:34:16.536517Z"
    }
   },
   "outputs": [
    {
     "name": "stdout",
     "output_type": "stream",
     "text": [
      "<class 'pandas.core.frame.DataFrame'>\n",
      "DatetimeIndex: 1004 entries, 2019-01-01 to 2021-09-30\n",
      "Data columns (total 1 columns):\n",
      " #   Column       Non-Null Count  Dtype\n",
      "---  ------       --------------  -----\n",
      " 0   Cap_Mercado  1004 non-null   int64\n",
      "dtypes: int64(1)\n",
      "memory usage: 15.7 KB\n"
     ]
    }
   ],
   "source": [
    "v_mercado.info()"
   ]
  },
  {
   "cell_type": "code",
   "execution_count": null,
   "id": "79dd367f",
   "metadata": {},
   "outputs": [],
   "source": []
  },
  {
   "cell_type": "code",
   "execution_count": 15,
   "id": "0e183f5a",
   "metadata": {
    "ExecuteTime": {
     "end_time": "2021-10-02T00:35:37.146976Z",
     "start_time": "2021-10-02T00:35:37.116098Z"
    }
   },
   "outputs": [
    {
     "data": {
      "text/html": [
       "<div>\n",
       "<style scoped>\n",
       "    .dataframe tbody tr th:only-of-type {\n",
       "        vertical-align: middle;\n",
       "    }\n",
       "\n",
       "    .dataframe tbody tr th {\n",
       "        vertical-align: top;\n",
       "    }\n",
       "\n",
       "    .dataframe thead th {\n",
       "        text-align: right;\n",
       "    }\n",
       "</style>\n",
       "<table border=\"1\" class=\"dataframe\">\n",
       "  <thead>\n",
       "    <tr style=\"text-align: right;\">\n",
       "      <th></th>\n",
       "      <th>Open</th>\n",
       "      <th>High</th>\n",
       "      <th>Low</th>\n",
       "      <th>Close</th>\n",
       "      <th>Adj Close</th>\n",
       "      <th>Volume</th>\n",
       "      <th>Cap_Mercado</th>\n",
       "    </tr>\n",
       "    <tr>\n",
       "      <th>Date</th>\n",
       "      <th></th>\n",
       "      <th></th>\n",
       "      <th></th>\n",
       "      <th></th>\n",
       "      <th></th>\n",
       "      <th></th>\n",
       "      <th></th>\n",
       "    </tr>\n",
       "  </thead>\n",
       "  <tbody>\n",
       "    <tr>\n",
       "      <th>2019-01-01</th>\n",
       "      <td>0.040984</td>\n",
       "      <td>0.042547</td>\n",
       "      <td>0.040308</td>\n",
       "      <td>0.042547</td>\n",
       "      <td>0.042547</td>\n",
       "      <td>14962902</td>\n",
       "      <td>1103113660</td>\n",
       "    </tr>\n",
       "    <tr>\n",
       "      <th>2019-01-02</th>\n",
       "      <td>0.042568</td>\n",
       "      <td>0.045563</td>\n",
       "      <td>0.041982</td>\n",
       "      <td>0.045258</td>\n",
       "      <td>0.045258</td>\n",
       "      <td>24151526</td>\n",
       "      <td>1173420170</td>\n",
       "    </tr>\n",
       "  </tbody>\n",
       "</table>\n",
       "</div>"
      ],
      "text/plain": [
       "                Open      High       Low     Close  Adj Close    Volume  \\\n",
       "Date                                                                      \n",
       "2019-01-01  0.040984  0.042547  0.040308  0.042547   0.042547  14962902   \n",
       "2019-01-02  0.042568  0.045563  0.041982  0.045258   0.045258  24151526   \n",
       "\n",
       "            Cap_Mercado  \n",
       "Date                     \n",
       "2019-01-01   1103113660  \n",
       "2019-01-02   1173420170  "
      ]
     },
     "execution_count": 15,
     "metadata": {},
     "output_type": "execute_result"
    }
   ],
   "source": [
    "data = pd.merge(cardano, v_mercado, on=\"Date\", how=\"left\")\n",
    "data.head(2)"
   ]
  },
  {
   "cell_type": "code",
   "execution_count": 17,
   "id": "7985e527",
   "metadata": {
    "ExecuteTime": {
     "end_time": "2021-10-02T00:36:01.730095Z",
     "start_time": "2021-10-02T00:36:01.704885Z"
    }
   },
   "outputs": [
    {
     "data": {
      "text/html": [
       "<div>\n",
       "<style scoped>\n",
       "    .dataframe tbody tr th:only-of-type {\n",
       "        vertical-align: middle;\n",
       "    }\n",
       "\n",
       "    .dataframe tbody tr th {\n",
       "        vertical-align: top;\n",
       "    }\n",
       "\n",
       "    .dataframe thead th {\n",
       "        text-align: right;\n",
       "    }\n",
       "</style>\n",
       "<table border=\"1\" class=\"dataframe\">\n",
       "  <thead>\n",
       "    <tr style=\"text-align: right;\">\n",
       "      <th></th>\n",
       "      <th>Open</th>\n",
       "      <th>High</th>\n",
       "      <th>Low</th>\n",
       "      <th>Close</th>\n",
       "      <th>Adj Close</th>\n",
       "      <th>Volume</th>\n",
       "      <th>Cap_Mercado</th>\n",
       "    </tr>\n",
       "  </thead>\n",
       "  <tbody>\n",
       "    <tr>\n",
       "      <th>count</th>\n",
       "      <td>1000.000000</td>\n",
       "      <td>1000.000000</td>\n",
       "      <td>1000.000000</td>\n",
       "      <td>1000.000000</td>\n",
       "      <td>1000.000000</td>\n",
       "      <td>1.000000e+03</td>\n",
       "      <td>1.000000e+03</td>\n",
       "    </tr>\n",
       "    <tr>\n",
       "      <th>mean</th>\n",
       "      <td>0.431369</td>\n",
       "      <td>0.453088</td>\n",
       "      <td>0.409461</td>\n",
       "      <td>0.433521</td>\n",
       "      <td>0.433521</td>\n",
       "      <td>1.502956e+09</td>\n",
       "      <td>1.359758e+10</td>\n",
       "    </tr>\n",
       "    <tr>\n",
       "      <th>std</th>\n",
       "      <td>0.680857</td>\n",
       "      <td>0.715110</td>\n",
       "      <td>0.645301</td>\n",
       "      <td>0.683078</td>\n",
       "      <td>0.683078</td>\n",
       "      <td>2.620670e+09</td>\n",
       "      <td>2.199056e+10</td>\n",
       "    </tr>\n",
       "    <tr>\n",
       "      <th>min</th>\n",
       "      <td>0.023954</td>\n",
       "      <td>0.025993</td>\n",
       "      <td>0.019130</td>\n",
       "      <td>0.023961</td>\n",
       "      <td>0.023961</td>\n",
       "      <td>1.101152e+07</td>\n",
       "      <td>6.212325e+08</td>\n",
       "    </tr>\n",
       "    <tr>\n",
       "      <th>25%</th>\n",
       "      <td>0.046203</td>\n",
       "      <td>0.047660</td>\n",
       "      <td>0.044936</td>\n",
       "      <td>0.046247</td>\n",
       "      <td>0.046247</td>\n",
       "      <td>7.086366e+07</td>\n",
       "      <td>1.199071e+09</td>\n",
       "    </tr>\n",
       "    <tr>\n",
       "      <th>50%</th>\n",
       "      <td>0.084358</td>\n",
       "      <td>0.087002</td>\n",
       "      <td>0.081608</td>\n",
       "      <td>0.084507</td>\n",
       "      <td>0.084507</td>\n",
       "      <td>2.028038e+08</td>\n",
       "      <td>2.207520e+09</td>\n",
       "    </tr>\n",
       "    <tr>\n",
       "      <th>75%</th>\n",
       "      <td>0.348392</td>\n",
       "      <td>0.367239</td>\n",
       "      <td>0.332560</td>\n",
       "      <td>0.348493</td>\n",
       "      <td>0.348493</td>\n",
       "      <td>1.810102e+09</td>\n",
       "      <td>1.084247e+10</td>\n",
       "    </tr>\n",
       "    <tr>\n",
       "      <th>max</th>\n",
       "      <td>2.966390</td>\n",
       "      <td>3.099186</td>\n",
       "      <td>2.907606</td>\n",
       "      <td>2.968239</td>\n",
       "      <td>2.968239</td>\n",
       "      <td>1.914198e+10</td>\n",
       "      <td>9.502550e+10</td>\n",
       "    </tr>\n",
       "  </tbody>\n",
       "</table>\n",
       "</div>"
      ],
      "text/plain": [
       "              Open         High          Low        Close    Adj Close  \\\n",
       "count  1000.000000  1000.000000  1000.000000  1000.000000  1000.000000   \n",
       "mean      0.431369     0.453088     0.409461     0.433521     0.433521   \n",
       "std       0.680857     0.715110     0.645301     0.683078     0.683078   \n",
       "min       0.023954     0.025993     0.019130     0.023961     0.023961   \n",
       "25%       0.046203     0.047660     0.044936     0.046247     0.046247   \n",
       "50%       0.084358     0.087002     0.081608     0.084507     0.084507   \n",
       "75%       0.348392     0.367239     0.332560     0.348493     0.348493   \n",
       "max       2.966390     3.099186     2.907606     2.968239     2.968239   \n",
       "\n",
       "             Volume   Cap_Mercado  \n",
       "count  1.000000e+03  1.000000e+03  \n",
       "mean   1.502956e+09  1.359758e+10  \n",
       "std    2.620670e+09  2.199056e+10  \n",
       "min    1.101152e+07  6.212325e+08  \n",
       "25%    7.086366e+07  1.199071e+09  \n",
       "50%    2.028038e+08  2.207520e+09  \n",
       "75%    1.810102e+09  1.084247e+10  \n",
       "max    1.914198e+10  9.502550e+10  "
      ]
     },
     "execution_count": 17,
     "metadata": {},
     "output_type": "execute_result"
    }
   ],
   "source": [
    "data.describe()"
   ]
  },
  {
   "cell_type": "code",
   "execution_count": 22,
   "id": "017889d9",
   "metadata": {
    "ExecuteTime": {
     "end_time": "2021-10-02T00:50:08.214076Z",
     "start_time": "2021-10-02T00:50:08.191940Z"
    }
   },
   "outputs": [
    {
     "name": "stdout",
     "output_type": "stream",
     "text": [
      "<class 'pandas.core.frame.DataFrame'>\n",
      "DatetimeIndex: 1000 entries, 2019-01-01 to 2021-09-30\n",
      "Data columns (total 7 columns):\n",
      " #   Column       Non-Null Count  Dtype  \n",
      "---  ------       --------------  -----  \n",
      " 0   Open         1000 non-null   float64\n",
      " 1   High         1000 non-null   float64\n",
      " 2   Low          1000 non-null   float64\n",
      " 3   Close        1000 non-null   float64\n",
      " 4   Adj Close    1000 non-null   float64\n",
      " 5   Volume       1000 non-null   int64  \n",
      " 6   Cap_Mercado  1000 non-null   int64  \n",
      "dtypes: float64(5), int64(2)\n",
      "memory usage: 62.5 KB\n"
     ]
    }
   ],
   "source": [
    "data.info()"
   ]
  },
  {
   "cell_type": "code",
   "execution_count": null,
   "id": "321e069f",
   "metadata": {},
   "outputs": [],
   "source": []
  }
 ],
 "metadata": {
  "kernelspec": {
   "display_name": "Python 3",
   "language": "python",
   "name": "python3"
  },
  "language_info": {
   "codemirror_mode": {
    "name": "ipython",
    "version": 3
   },
   "file_extension": ".py",
   "mimetype": "text/x-python",
   "name": "python",
   "nbconvert_exporter": "python",
   "pygments_lexer": "ipython3",
   "version": "3.8.8"
  }
 },
 "nbformat": 4,
 "nbformat_minor": 5
}
